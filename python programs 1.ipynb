{
 "cells": [
  {
   "cell_type": "markdown",
   "id": "2ecf1999-ae03-4a1e-aa24-419bb5144743",
   "metadata": {},
   "source": [
    "# Write a program in python to calculate simple interest."
   ]
  },
  {
   "cell_type": "code",
   "execution_count": 3,
   "id": "a4ad5676-4ec4-442d-a51e-408f8fd12ab8",
   "metadata": {},
   "outputs": [
    {
     "name": "stdin",
     "output_type": "stream",
     "text": [
      "Enter the principal amount:  1000\n",
      "Enter the rate of interest:  5\n",
      "Enter the time (in years):  2\n"
     ]
    },
    {
     "name": "stdout",
     "output_type": "stream",
     "text": [
      "The simple interest is: 100.0\n"
     ]
    }
   ],
   "source": [
    "# Function to calculate simple interest\n",
    "def calculate_simple_interest(principal, rate, time):\n",
    "    simple_interest = (principal * rate * time) / 100\n",
    "    return simple_interest\n",
    "\n",
    "# Input values\n",
    "principal = float(input(\"Enter the principal amount: \"))\n",
    "rate = float(input(\"Enter the rate of interest: \"))\n",
    "time = float(input(\"Enter the time (in years): \"))\n",
    "\n",
    "# Calculate simple interest\n",
    "interest = calculate_simple_interest(principal, rate, time)\n",
    "\n",
    "# Display the result\n",
    "print(f\"The simple interest is: {interest}\")\n"
   ]
  },
  {
   "cell_type": "markdown",
   "id": "1e7fa594-a0fb-4aa5-85d5-7f96968098ae",
   "metadata": {},
   "source": [
    "#  Write a program to calculate compound interest."
   ]
  },
  {
   "cell_type": "code",
   "execution_count": 8,
   "id": "118dd226-46df-4c18-846b-4ee91890f621",
   "metadata": {},
   "outputs": [
    {
     "name": "stdin",
     "output_type": "stream",
     "text": [
      "Enter the principal amount:  1000\n",
      "Enter the rate of interest:  5\n",
      "Enter the time (in years):  2\n",
      "Enter the number of times interest is compounded per year:  4\n"
     ]
    },
    {
     "name": "stdout",
     "output_type": "stream",
     "text": [
      "The compound interest is: 104.4861011814121\n"
     ]
    }
   ],
   "source": [
    "# Function to calculate compound interest\n",
    "def calculate_compound_interest(principal, rate, time, n):\n",
    "    amount = principal * (1 + rate / (100 * n)) ** (n * time)\n",
    "    compound_interest = amount - principal\n",
    "    return compound_interest\n",
    "\n",
    "# Input values\n",
    "principal = float(input(\"Enter the principal amount: \"))\n",
    "rate = float(input(\"Enter the rate of interest: \"))\n",
    "time = float(input(\"Enter the time (in years): \"))\n",
    "n = int(input(\"Enter the number of times interest is compounded per year: \"))\n",
    "\n",
    "# Calculate compound interest\n",
    "interest = calculate_compound_interest(principal, rate, time, n)\n",
    "\n",
    "# Display the result\n",
    "print(f\"The compound interest is: {interest}\")\n"
   ]
  },
  {
   "cell_type": "markdown",
   "id": "57f89476-f171-464d-8087-ee2d9d6227b8",
   "metadata": {},
   "source": [
    "# write a program to input cost price of item and apply 20% discount on it and print the total price."
   ]
  },
  {
   "cell_type": "code",
   "execution_count": 12,
   "id": "84d3233e-55a3-48dc-8bfd-de6986b19757",
   "metadata": {},
   "outputs": [
    {
     "name": "stdin",
     "output_type": "stream",
     "text": [
      "Enter the cost price of the item:  1000\n"
     ]
    },
    {
     "name": "stdout",
     "output_type": "stream",
     "text": [
      "The total price after a 20% discount is: 800.0\n"
     ]
    }
   ],
   "source": [
    "# Function to calculate the discounted price\n",
    "def calculate_discounted_price(cost_price, discount_rate):\n",
    "    discount = (cost_price * discount_rate) / 100\n",
    "    total_price = cost_price - discount\n",
    "    return total_price\n",
    "\n",
    "# Input cost price\n",
    "cost_price = float(input(\"Enter the cost price of the item: \"))\n",
    "\n",
    "# Discount rate\n",
    "discount_rate = 20  # 20% discount\n",
    "\n",
    "# Calculate total price after discount\n",
    "total_price = calculate_discounted_price(cost_price, discount_rate)\n",
    "\n",
    "# Display the result\n",
    "print(f\"The total price after a 20% discount is: {total_price}\")\n"
   ]
  },
  {
   "cell_type": "markdown",
   "id": "4190e008-1a63-4bc2-b7ba-afdf778fbea9",
   "metadata": {},
   "source": [
    "# write a program to input temperature in celcius and convert it in fahrenhyte."
   ]
  },
  {
   "cell_type": "code",
   "execution_count": 16,
   "id": "2b95e2f3-1079-4464-b7e4-3ab73ee030e5",
   "metadata": {},
   "outputs": [
    {
     "name": "stdin",
     "output_type": "stream",
     "text": [
      "Enter the temperature in Celsius:  25\n"
     ]
    },
    {
     "name": "stdout",
     "output_type": "stream",
     "text": [
      "The temperature in Fahrenheit is: 77.0\n"
     ]
    }
   ],
   "source": [
    "# Function to convert Celsius to Fahrenheit\n",
    "def celsius_to_fahrenheit(celsius):\n",
    "    fahrenheit = (celsius * 9/5) + 32\n",
    "    return fahrenheit\n",
    "\n",
    "# Input temperature in Celsius\n",
    "celsius = float(input(\"Enter the temperature in Celsius: \"))\n",
    "\n",
    "# Convert to Fahrenheit\n",
    "fahrenheit = celsius_to_fahrenheit(celsius)\n",
    "\n",
    "# Display the result\n",
    "print(f\"The temperature in Fahrenheit is: {fahrenheit}\")\n"
   ]
  },
  {
   "cell_type": "code",
   "execution_count": null,
   "id": "1c94e40f-0a7f-4b8a-9832-e299bc4715e8",
   "metadata": {},
   "outputs": [],
   "source": []
  }
 ],
 "metadata": {
  "kernelspec": {
   "display_name": "Python 3 (ipykernel)",
   "language": "python",
   "name": "python3"
  },
  "language_info": {
   "codemirror_mode": {
    "name": "ipython",
    "version": 3
   },
   "file_extension": ".py",
   "mimetype": "text/x-python",
   "name": "python",
   "nbconvert_exporter": "python",
   "pygments_lexer": "ipython3",
   "version": "3.12.4"
  }
 },
 "nbformat": 4,
 "nbformat_minor": 5
}
