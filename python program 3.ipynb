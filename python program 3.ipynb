{
 "cells": [
  {
   "cell_type": "markdown",
   "id": "da675aba-55fd-4525-b848-b71d2ca94484",
   "metadata": {},
   "source": [
    "# Write a program to print the first 20 multiples of a number"
   ]
  },
  {
   "cell_type": "code",
   "execution_count": 1,
   "id": "170051cf-76af-4ea5-8036-87a0d12fdc5e",
   "metadata": {},
   "outputs": [
    {
     "name": "stdin",
     "output_type": "stream",
     "text": [
      "Enter a number:  4\n"
     ]
    },
    {
     "name": "stdout",
     "output_type": "stream",
     "text": [
      "The first 20 multiples of 4 are:\n",
      "4 x 1 = 4\n",
      "4 x 2 = 8\n",
      "4 x 3 = 12\n",
      "4 x 4 = 16\n",
      "4 x 5 = 20\n",
      "4 x 6 = 24\n",
      "4 x 7 = 28\n",
      "4 x 8 = 32\n",
      "4 x 9 = 36\n",
      "4 x 10 = 40\n",
      "4 x 11 = 44\n",
      "4 x 12 = 48\n",
      "4 x 13 = 52\n",
      "4 x 14 = 56\n",
      "4 x 15 = 60\n",
      "4 x 16 = 64\n",
      "4 x 17 = 68\n",
      "4 x 18 = 72\n",
      "4 x 19 = 76\n",
      "4 x 20 = 80\n"
     ]
    }
   ],
   "source": [
    "# Taking input from user\n",
    "number = int(input(\"Enter a number: \"))\n",
    "\n",
    "# Loop to calculate and print the first 20 multiples\n",
    "print(f\"The first 20 multiples of {number} are:\")\n",
    "for i in range(1, 21): \n",
    "    multiple = number * i \n",
    "    print(f\"{number} x {i} = {multiple}\") \n"
   ]
  },
  {
   "cell_type": "markdown",
   "id": "2142cbdf-ae2c-4950-bb59-746bfffdde6e",
   "metadata": {},
   "source": [
    "# Write a program to print the factors of a number"
   ]
  },
  {
   "cell_type": "code",
   "execution_count": 5,
   "id": "c73d62fb-1a70-4f67-8e44-9d7a6bc71cb4",
   "metadata": {},
   "outputs": [
    {
     "name": "stdin",
     "output_type": "stream",
     "text": [
      "Enter a number:  8\n"
     ]
    },
    {
     "name": "stdout",
     "output_type": "stream",
     "text": [
      "The factors of 8 are:\n",
      "1\n",
      "2\n",
      "4\n",
      "8\n"
     ]
    }
   ],
   "source": [
    "# Taking input from the user\n",
    "number = int(input(\"Enter a number: \"))\n",
    "\n",
    "# Find and display the factors\n",
    "print(f\"The factors of {number} are:\")\n",
    "for i in range(1, number + 1):  \n",
    "    if number % i == 0:  \n",
    "        print(i) \n"
   ]
  },
  {
   "cell_type": "code",
   "execution_count": null,
   "id": "ad4e1c1f-a9d8-4f7b-a044-aae591246f76",
   "metadata": {},
   "outputs": [],
   "source": []
  }
 ],
 "metadata": {
  "kernelspec": {
   "display_name": "Python 3 (ipykernel)",
   "language": "python",
   "name": "python3"
  },
  "language_info": {
   "codemirror_mode": {
    "name": "ipython",
    "version": 3
   },
   "file_extension": ".py",
   "mimetype": "text/x-python",
   "name": "python",
   "nbconvert_exporter": "python",
   "pygments_lexer": "ipython3",
   "version": "3.12.4"
  }
 },
 "nbformat": 4,
 "nbformat_minor": 5
}
