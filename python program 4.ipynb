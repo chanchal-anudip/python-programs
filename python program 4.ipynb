{
 "cells": [
  {
   "cell_type": "markdown",
   "id": "c73c2161-b4c3-4635-b5a9-e784cc6e4c9d",
   "metadata": {},
   "source": [
    "# Write a program to create a list of any 20 number . Print the even numbers from it."
   ]
  },
  {
   "cell_type": "code",
   "execution_count": 2,
   "id": "5c96d8a3-e667-4402-a092-a9d99f319645",
   "metadata": {},
   "outputs": [
    {
     "name": "stdout",
     "output_type": "stream",
     "text": [
      "Enter 20 numbers:\n"
     ]
    },
    {
     "name": "stdin",
     "output_type": "stream",
     "text": [
      "Enter number 1:  1\n",
      "Enter number 2:  2\n",
      "Enter number 3:  3\n",
      "Enter number 4:  4\n",
      "Enter number 5:  5\n",
      "Enter number 6:  6\n",
      "Enter number 7:  7\n",
      "Enter number 8:  8\n",
      "Enter number 9:  9\n",
      "Enter number 10:  10\n",
      "Enter number 11:  11\n",
      "Enter number 12:  21\n",
      "Enter number 13:  12\n",
      "Enter number 14:  13\n",
      "Enter number 15:  14\n",
      "Enter number 16:  12\n",
      "Enter number 17:  43\n",
      "Enter number 18:  65\n",
      "Enter number 19:  76\n",
      "Enter number 20:  78\n"
     ]
    },
    {
     "name": "stdout",
     "output_type": "stream",
     "text": [
      "\n",
      "The even numbers from the list are:\n",
      "[2, 4, 6, 8, 10, 12, 14, 12, 76, 78]\n"
     ]
    }
   ],
   "source": [
    "# Create an empty list to store the numbers\n",
    "numbers = []\n",
    "\n",
    "# Ask the user to input 20 numbers\n",
    "print(\"Enter 20 numbers:\")\n",
    "for i in range(20):\n",
    "    num = int(input(f\"Enter number {i+1}: \"))\n",
    "    numbers.append(num)\n",
    "\n",
    "# Filter even numbers from the list\n",
    "even_numbers = [num for num in numbers if num % 2 == 0]\n",
    "\n",
    "# Print the even numbers\n",
    "print(\"\\nThe even numbers from the list are:\")\n",
    "print(even_numbers)\n"
   ]
  },
  {
   "cell_type": "markdown",
   "id": "b6d6d511-119a-4748-bd89-8be950483427",
   "metadata": {},
   "source": [
    "# Write a program to input any number and print its odd factors and even factors separately"
   ]
  },
  {
   "cell_type": "code",
   "execution_count": 9,
   "id": "09bd7e9f-b6a8-4d6d-b564-8b96def163c8",
   "metadata": {},
   "outputs": [
    {
     "name": "stdin",
     "output_type": "stream",
     "text": [
      "Enter a number:  20\n"
     ]
    },
    {
     "name": "stdout",
     "output_type": "stream",
     "text": [
      "\n",
      "Odd factors: [1, 5]\n",
      "Even factors: [2, 4, 10, 20]\n"
     ]
    }
   ],
   "source": [
    "# Input a number from the user\n",
    "num = int(input(\"Enter a number: \"))\n",
    "\n",
    "# Initialize empty lists for odd and even factors\n",
    "odd_factors = []\n",
    "even_factors = []\n",
    "\n",
    "# Find factors and classify them as odd or even\n",
    "for i in range(1, num + 1):\n",
    "    if num % i == 0:  # Check if `i` is a factor of `num`\n",
    "        if i % 2 == 0:\n",
    "            even_factors.append(i)\n",
    "        else:\n",
    "            odd_factors.append(i)\n",
    "\n",
    "# Print the results\n",
    "print(\"\\nOdd factors:\", odd_factors)\n",
    "print(\"Even factors:\", even_factors)\n"
   ]
  },
  {
   "cell_type": "code",
   "execution_count": null,
   "id": "3c1cbd22-e26f-406a-a01a-b1a7f32b673a",
   "metadata": {},
   "outputs": [],
   "source": []
  }
 ],
 "metadata": {
  "kernelspec": {
   "display_name": "Python 3 (ipykernel)",
   "language": "python",
   "name": "python3"
  },
  "language_info": {
   "codemirror_mode": {
    "name": "ipython",
    "version": 3
   },
   "file_extension": ".py",
   "mimetype": "text/x-python",
   "name": "python",
   "nbconvert_exporter": "python",
   "pygments_lexer": "ipython3",
   "version": "3.12.4"
  }
 },
 "nbformat": 4,
 "nbformat_minor": 5
}
