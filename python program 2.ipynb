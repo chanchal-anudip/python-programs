{
 "cells": [
  {
   "cell_type": "markdown",
   "id": "bbfb73b2-c57b-48a2-bd96-2f90c43f5694",
   "metadata": {},
   "source": [
    "# Write a program to input any three side and check they form a triangle or not"
   ]
  },
  {
   "cell_type": "code",
   "execution_count": 9,
   "id": "a1ef500a-b3d9-46a9-afe7-6c043f542c6b",
   "metadata": {},
   "outputs": [
    {
     "name": "stdin",
     "output_type": "stream",
     "text": [
      "Enter the length of side a:  0\n",
      "Enter the length of side b:  -1\n",
      "Enter the length of side c:  2\n"
     ]
    },
    {
     "name": "stdout",
     "output_type": "stream",
     "text": [
      "The sides cannot form a triangle.\n"
     ]
    }
   ],
   "source": [
    "# Input the lengths of the sides\n",
    "sidea = float(input(\"Enter the length of side a: \"))\n",
    "sideb = float(input(\"Enter the length of side b: \"))\n",
    "sidec = float(input(\"Enter the length of side c: \"))\n",
    "\n",
    "# Check if the sides can form a triangle\n",
    "if a<=0 or b<=0 or c<=0:\n",
    "    print(\"The sides cannot form a triangle because the sides should be greater than 0\")\n",
    "    \n",
    "elif sidea + sideb > sidec and sidea + sidec > sideb and sideb + sidec > sidea:\n",
    "    print(\"The sides can form a triangle.\")\n",
    "else:\n",
    "    print(\"The sides cannot form a triangle.\")\n",
    "\n"
   ]
  },
  {
   "cell_type": "markdown",
   "id": "9290d0a5-45c1-4dfd-98cf-acb8442577e4",
   "metadata": {},
   "source": [
    " # write a program to find the greatest number among three numbers"
   ]
  },
  {
   "cell_type": "code",
   "execution_count": null,
   "id": "453a5af6-69de-4b7f-9522-711b3eedec3d",
   "metadata": {},
   "outputs": [],
   "source": [
    "num1 = float(input(\"Enter the first number: \"))\n",
    "num2 = float(input(\"Enter the second number: \"))\n",
    "num3 = float(input(\"Enter the third number: \"))\n",
    "print(\"----------------------------------------------\")\n",
    "if num1==num2==num3:\n",
    "    print(\"Three of the numbers are equal\")\n",
    "elif num1 >= num2 and num1 >= num3:\n",
    "    print(\"The greatest number is:\", num1)\n",
    "elif num2 >= num1 and num2 >= num3:\n",
    "    print(\"The greatest number is:\", num2)\n",
    "else:\n",
    "    print(\"The greatest number is:\", num3)\n"
   ]
  },
  {
   "cell_type": "code",
   "execution_count": null,
   "id": "6feaafe9-d9dd-49e8-9d78-3d4315032377",
   "metadata": {},
   "outputs": [],
   "source": []
  }
 ],
 "metadata": {
  "kernelspec": {
   "display_name": "Python 3 (ipykernel)",
   "language": "python",
   "name": "python3"
  },
  "language_info": {
   "codemirror_mode": {
    "name": "ipython",
    "version": 3
   },
   "file_extension": ".py",
   "mimetype": "text/x-python",
   "name": "python",
   "nbconvert_exporter": "python",
   "pygments_lexer": "ipython3",
   "version": "3.12.4"
  }
 },
 "nbformat": 4,
 "nbformat_minor": 5
}
